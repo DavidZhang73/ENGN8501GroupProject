{
 "cells": [
  {
   "cell_type": "code",
   "execution_count": 1,
   "id": "9c7b0dcc-cfac-43ff-8048-d1b83618113b",
   "metadata": {
    "execution": {
     "iopub.execute_input": "2021-10-30T10:30:51.833677Z",
     "iopub.status.busy": "2021-10-30T10:30:51.832678Z",
     "iopub.status.idle": "2021-10-30T10:30:52.627694Z",
     "shell.execute_reply": "2021-10-30T10:30:52.626781Z",
     "shell.execute_reply.started": "2021-10-30T10:30:51.833677Z"
    },
    "tags": []
   },
   "outputs": [],
   "source": [
    "import os\n",
    "\n",
    "import cv2\n",
    "import matplotlib.pyplot as plt\n",
    "import numpy as np\n",
    "import pandas as pd\n",
    "from PIL import Image\n",
    "from tqdm.notebook import tqdm"
   ]
  },
  {
   "cell_type": "code",
   "execution_count": 2,
   "id": "3ca9296f-bce3-482b-8a27-dcc3860cf475",
   "metadata": {
    "execution": {
     "iopub.execute_input": "2021-10-30T10:30:52.629698Z",
     "iopub.status.busy": "2021-10-30T10:30:52.628689Z",
     "iopub.status.idle": "2021-10-30T10:30:52.644692Z",
     "shell.execute_reply": "2021-10-30T10:30:52.642688Z",
     "shell.execute_reply.started": "2021-10-30T10:30:52.629698Z"
    },
    "tags": []
   },
   "outputs": [],
   "source": [
    "# TRANSFER_PATH = r\"D:\\Downloads\\Background Matting\\dataset\\VideoMatte20KFrames\\valid\"\n",
    "# CONVLSTM_PATH = r\"D:\\Downloads\\Background Matting\\dataset\\VideoMatte20KFrames\\validConvLSTM\"\n",
    "TRANSFER_PATH = r\"D:\\Downloads\\Background Matting\\dataset\\VideoMatte20KFrames\\valid2\"\n",
    "CONVLSTM_PATH = r\"D:\\Downloads\\Background Matting\\dataset\\VideoMatte20KFrames\\validConvLSTM2\"\n",
    "ORIGINAL_PATH = r\"D:\\Downloads\\Background Matting\\dataset\\VideoMatte20KFrames\\validOriginal\""
   ]
  },
  {
   "cell_type": "code",
   "execution_count": 3,
   "id": "290071c8-b92e-4bcc-9ecf-2c5d3a688562",
   "metadata": {
    "execution": {
     "iopub.execute_input": "2021-10-30T10:30:52.647695Z",
     "iopub.status.busy": "2021-10-30T10:30:52.647695Z",
     "iopub.status.idle": "2021-10-30T10:30:52.659690Z",
     "shell.execute_reply": "2021-10-30T10:30:52.658721Z",
     "shell.execute_reply.started": "2021-10-30T10:30:52.647695Z"
    },
    "tags": []
   },
   "outputs": [],
   "source": [
    "def read_img(pathname, mode=\"L\"):\n",
    "    with Image.open(pathname) as img:\n",
    "        return img.convert(mode)"
   ]
  },
  {
   "cell_type": "code",
   "execution_count": 4,
   "id": "ebd2a50f-75c9-4be1-b26c-46dd58d7d019",
   "metadata": {
    "execution": {
     "iopub.execute_input": "2021-10-30T10:30:52.661690Z",
     "iopub.status.busy": "2021-10-30T10:30:52.660687Z",
     "iopub.status.idle": "2021-10-30T10:30:52.675690Z",
     "shell.execute_reply": "2021-10-30T10:30:52.674688Z",
     "shell.execute_reply.started": "2021-10-30T10:30:52.661690Z"
    },
    "tags": []
   },
   "outputs": [],
   "source": [
    "def get_img_list(path, mode=\"L\"):\n",
    "    return [read_img(os.path.join(path, name), mode) for name in os.listdir(path)]"
   ]
  },
  {
   "cell_type": "markdown",
   "id": "5e8f2b32-e8af-4c84-9ade-0c8c4f7bc44f",
   "metadata": {
    "tags": []
   },
   "source": [
    "### MAD (mean absolute difference)"
   ]
  },
  {
   "cell_type": "code",
   "execution_count": 5,
   "id": "93b0046d-d96c-4b94-b4dd-a029677eea49",
   "metadata": {
    "execution": {
     "iopub.execute_input": "2021-10-30T10:30:52.677688Z",
     "iopub.status.busy": "2021-10-30T10:30:52.677688Z",
     "iopub.status.idle": "2021-10-30T10:30:52.690689Z",
     "shell.execute_reply": "2021-10-30T10:30:52.689686Z",
     "shell.execute_reply.started": "2021-10-30T10:30:52.677688Z"
    },
    "tags": []
   },
   "outputs": [],
   "source": [
    "class MetricMAD:\n",
    "    def __call__(self, pred, true):\n",
    "        return np.abs(pred - true).mean()"
   ]
  },
  {
   "cell_type": "markdown",
   "id": "ae24d640-706e-465a-9334-d295550a7a66",
   "metadata": {},
   "source": [
    "### MSE (mean squared error)"
   ]
  },
  {
   "cell_type": "code",
   "execution_count": 6,
   "id": "9f5da061-3bbd-4d59-8e69-353d1ca8f11b",
   "metadata": {
    "execution": {
     "iopub.execute_input": "2021-10-30T10:30:52.693690Z",
     "iopub.status.busy": "2021-10-30T10:30:52.692691Z",
     "iopub.status.idle": "2021-10-30T10:30:52.706688Z",
     "shell.execute_reply": "2021-10-30T10:30:52.705720Z",
     "shell.execute_reply.started": "2021-10-30T10:30:52.693690Z"
    },
    "tags": []
   },
   "outputs": [],
   "source": [
    "class MetricMSE:\n",
    "    def __call__(self, pred, true):\n",
    "        return ((pred - true) ** 2).mean()"
   ]
  },
  {
   "cell_type": "markdown",
   "id": "bc909b90-b928-47d7-a2ac-7d4d2ae3954a",
   "metadata": {},
   "source": [
    "### GRAD"
   ]
  },
  {
   "cell_type": "code",
   "execution_count": 7,
   "id": "4c99c0a5-daf5-48cc-8359-465386bb0790",
   "metadata": {
    "execution": {
     "iopub.execute_input": "2021-10-30T10:30:52.709690Z",
     "iopub.status.busy": "2021-10-30T10:30:52.708691Z",
     "iopub.status.idle": "2021-10-30T10:30:52.737690Z",
     "shell.execute_reply": "2021-10-30T10:30:52.736689Z",
     "shell.execute_reply.started": "2021-10-30T10:30:52.708691Z"
    },
    "tags": []
   },
   "outputs": [],
   "source": [
    "class MetricGRAD:\n",
    "    def __init__(self, sigma=1.4):\n",
    "        self.filter_x, self.filter_y = self.gauss_filter(sigma)\n",
    "\n",
    "    def __call__(self, pred, true):\n",
    "        pred_normed = np.zeros_like(pred)\n",
    "        true_normed = np.zeros_like(true)\n",
    "        cv2.normalize(pred, pred_normed, 1.0, 0.0, cv2.NORM_MINMAX)\n",
    "        cv2.normalize(true, true_normed, 1.0, 0.0, cv2.NORM_MINMAX)\n",
    "\n",
    "        true_grad = self.gauss_gradient(true_normed).astype(np.float32)\n",
    "        pred_grad = self.gauss_gradient(pred_normed).astype(np.float32)\n",
    "\n",
    "        grad_loss = ((true_grad - pred_grad) ** 2).sum()\n",
    "        return grad_loss / 1000\n",
    "\n",
    "    def gauss_gradient(self, img):\n",
    "        img_filtered_x = cv2.filter2D(img, -1, self.filter_x, borderType=cv2.BORDER_REPLICATE)\n",
    "        img_filtered_y = cv2.filter2D(img, -1, self.filter_y, borderType=cv2.BORDER_REPLICATE)\n",
    "        return np.sqrt(img_filtered_x ** 2 + img_filtered_y ** 2)\n",
    "\n",
    "    @staticmethod\n",
    "    def gauss_filter(sigma, epsilon=1e-2):\n",
    "        half_size = np.ceil(sigma * np.sqrt(-2 * np.log(np.sqrt(2 * np.pi) * sigma * epsilon)))\n",
    "        size = np.int(2 * half_size + 1)\n",
    "\n",
    "        # create filter in x axis\n",
    "        filter_x = np.zeros((size, size))\n",
    "        for i in range(size):\n",
    "            for j in range(size):\n",
    "                filter_x[i, j] = MetricGRAD.gaussian(i - half_size, sigma) * MetricGRAD.dgaussian(j - half_size, sigma)\n",
    "\n",
    "        # normalize filter\n",
    "        norm = np.sqrt((filter_x ** 2).sum())\n",
    "        filter_x = filter_x / norm\n",
    "        filter_y = np.transpose(filter_x)\n",
    "\n",
    "        return filter_x, filter_y\n",
    "\n",
    "    @staticmethod\n",
    "    def gaussian(x, sigma):\n",
    "        return np.exp(-(x ** 2) / (2 * sigma ** 2)) / (sigma * np.sqrt(2 * np.pi))\n",
    "\n",
    "    @staticmethod\n",
    "    def dgaussian(x, sigma):\n",
    "        return -x * MetricGRAD.gaussian(x, sigma) / sigma ** 2"
   ]
  },
  {
   "cell_type": "markdown",
   "id": "89981812-ab37-4f19-a6d1-0bdcb70e7ca7",
   "metadata": {},
   "source": [
    "### CONN"
   ]
  },
  {
   "cell_type": "code",
   "execution_count": 8,
   "id": "c48022d6-c72e-490c-8292-77a5c427b53e",
   "metadata": {
    "execution": {
     "iopub.execute_input": "2021-10-30T10:30:52.744689Z",
     "iopub.status.busy": "2021-10-30T10:30:52.743689Z",
     "iopub.status.idle": "2021-10-30T10:30:52.769689Z",
     "shell.execute_reply": "2021-10-30T10:30:52.768686Z",
     "shell.execute_reply.started": "2021-10-30T10:30:52.744689Z"
    },
    "tags": []
   },
   "outputs": [],
   "source": [
    "class MetricCONN:\n",
    "    def __call__(self, pred, true):\n",
    "        step = 0.1\n",
    "        thresh_steps = np.arange(0, 1 + step, step)\n",
    "        round_down_map = -np.ones_like(true)\n",
    "        for i in range(1, len(thresh_steps)):\n",
    "            true_thresh = true >= thresh_steps[i]\n",
    "            pred_thresh = pred >= thresh_steps[i]\n",
    "            intersection = (true_thresh & pred_thresh).astype(np.uint8)\n",
    "\n",
    "            # connected components\n",
    "            _, output, stats, _ = cv2.connectedComponentsWithStats(intersection, connectivity=4)\n",
    "            # start from 1 in dim 0 to exclude background\n",
    "            size = stats[1:, -1]\n",
    "\n",
    "            # largest connected component of the intersection\n",
    "            omega = np.zeros_like(true)\n",
    "            if len(size) != 0:\n",
    "                max_id = np.argmax(size)\n",
    "                # plus one to include background\n",
    "                omega[output == max_id + 1] = 1\n",
    "\n",
    "            mask = (round_down_map == -1) & (omega == 0)\n",
    "            round_down_map[mask] = thresh_steps[i - 1]\n",
    "        round_down_map[round_down_map == -1] = 1\n",
    "\n",
    "        true_diff = true - round_down_map\n",
    "        pred_diff = pred - round_down_map\n",
    "        # only calculate difference larger than or equal to 0.15\n",
    "        true_phi = 1 - true_diff * (true_diff >= 0.15)\n",
    "        pred_phi = 1 - pred_diff * (pred_diff >= 0.15)\n",
    "\n",
    "        connectivity_error = np.sum(np.abs(true_phi - pred_phi))\n",
    "        return connectivity_error / 1000"
   ]
  },
  {
   "cell_type": "code",
   "execution_count": 9,
   "id": "711602e1-0f57-45ae-8238-20d3183bbe9a",
   "metadata": {
    "execution": {
     "iopub.execute_input": "2021-10-30T10:30:52.771691Z",
     "iopub.status.busy": "2021-10-30T10:30:52.770689Z",
     "iopub.status.idle": "2021-10-30T10:30:52.785687Z",
     "shell.execute_reply": "2021-10-30T10:30:52.784688Z",
     "shell.execute_reply.started": "2021-10-30T10:30:52.771691Z"
    },
    "tags": []
   },
   "outputs": [],
   "source": [
    "metric_list = [MetricMAD(), MetricMSE(), MetricGRAD(), MetricCONN()]"
   ]
  },
  {
   "cell_type": "code",
   "execution_count": 10,
   "id": "8dff2450-2ac3-45b0-8245-9bba3340c782",
   "metadata": {
    "execution": {
     "iopub.execute_input": "2021-10-30T10:30:52.788690Z",
     "iopub.status.busy": "2021-10-30T10:30:52.788690Z",
     "iopub.status.idle": "2021-10-30T10:30:52.801692Z",
     "shell.execute_reply": "2021-10-30T10:30:52.800689Z",
     "shell.execute_reply.started": "2021-10-30T10:30:52.788690Z"
    },
    "tags": []
   },
   "outputs": [],
   "source": [
    "def get_result_list(path):\n",
    "    pred_pha_list = get_img_list(os.path.join(path, \"pred_pha\"))\n",
    "    gt_pha_list = get_img_list(os.path.join(path, \"true_pha\"))\n",
    "    ret = []\n",
    "    for pred_pha, true_pha in zip(pred_pha_list, gt_pha_list):\n",
    "        ret.append([metric(np.array(pred_pha), np.array(true_pha)) for metric in metric_list])\n",
    "    return ret"
   ]
  },
  {
   "cell_type": "code",
   "execution_count": 11,
   "id": "97180c72-f637-4314-b515-850749e1b5ba",
   "metadata": {
    "execution": {
     "iopub.execute_input": "2021-10-30T10:30:52.803692Z",
     "iopub.status.busy": "2021-10-30T10:30:52.803692Z",
     "iopub.status.idle": "2021-10-30T10:31:42.355829Z",
     "shell.execute_reply": "2021-10-30T10:31:42.355829Z",
     "shell.execute_reply.started": "2021-10-30T10:30:52.803692Z"
    },
    "tags": []
   },
   "outputs": [],
   "source": [
    "transfer_result_list = get_result_list(TRANSFER_PATH)\n",
    "convSLTM_result_list = get_result_list(CONVLSTM_PATH)\n",
    "original_result_list = get_result_list(ORIGINAL_PATH)"
   ]
  },
  {
   "cell_type": "code",
   "execution_count": 22,
   "id": "935541d1-170f-4aa9-879d-b1f5e213979d",
   "metadata": {
    "execution": {
     "iopub.execute_input": "2021-10-30T10:33:59.554229Z",
     "iopub.status.busy": "2021-10-30T10:33:59.553233Z",
     "iopub.status.idle": "2021-10-30T10:33:59.569232Z",
     "shell.execute_reply": "2021-10-30T10:33:59.568263Z",
     "shell.execute_reply.started": "2021-10-30T10:33:59.554229Z"
    },
    "tags": []
   },
   "outputs": [
    {
     "data": {
      "text/plain": [
       "MAD       8.093385\n",
       "MSE       5.442810\n",
       "GRAD      6.728481\n",
       "CONN    406.093677\n",
       "dtype: float64"
      ]
     },
     "execution_count": 22,
     "metadata": {},
     "output_type": "execute_result"
    }
   ],
   "source": [
    "transfer = pd.DataFrame(transfer_result_list, columns=[\"MAD\", \"MSE\", \"GRAD\", \"CONN\"]).mean()\n",
    "transfer"
   ]
  },
  {
   "cell_type": "code",
   "execution_count": 25,
   "id": "f3b5c2a5-c05e-4df5-9cd0-d77cddd1a4f8",
   "metadata": {
    "execution": {
     "iopub.execute_input": "2021-10-30T10:34:31.533169Z",
     "iopub.status.busy": "2021-10-30T10:34:31.533169Z",
     "iopub.status.idle": "2021-10-30T10:34:31.551139Z",
     "shell.execute_reply": "2021-10-30T10:34:31.550177Z",
     "shell.execute_reply.started": "2021-10-30T10:34:31.533169Z"
    },
    "tags": []
   },
   "outputs": [
    {
     "data": {
      "text/plain": [
       "MAD       5.175114\n",
       "MSE       3.730596\n",
       "GRAD      7.650366\n",
       "CONN    259.666536\n",
       "dtype: float64"
      ]
     },
     "execution_count": 25,
     "metadata": {},
     "output_type": "execute_result"
    }
   ],
   "source": [
    "convLSTM = pd.DataFrame(convSLTM_result_list, columns=[\"MAD\", \"MSE\", \"GRAD\", \"CONN\"]).mean()\n",
    "convLSTM"
   ]
  },
  {
   "cell_type": "code",
   "execution_count": 26,
   "id": "26fdf8c8-7c7c-4bbe-96ca-4f4bde0f6d0c",
   "metadata": {
    "execution": {
     "iopub.execute_input": "2021-10-30T10:34:41.717952Z",
     "iopub.status.busy": "2021-10-30T10:34:41.717952Z",
     "iopub.status.idle": "2021-10-30T10:34:41.743952Z",
     "shell.execute_reply": "2021-10-30T10:34:41.742952Z",
     "shell.execute_reply.started": "2021-10-30T10:34:41.717952Z"
    },
    "tags": []
   },
   "outputs": [
    {
     "data": {
      "text/plain": [
       "MAD       2.040768\n",
       "MSE       0.942249\n",
       "GRAD      0.114096\n",
       "CONN    102.397561\n",
       "dtype: float64"
      ]
     },
     "execution_count": 26,
     "metadata": {},
     "output_type": "execute_result"
    }
   ],
   "source": [
    "original = pd.DataFrame(original_result_list, columns=[\"MAD\", \"MSE\", \"GRAD\", \"CONN\"]).mean()\n",
    "original"
   ]
  },
  {
   "cell_type": "code",
   "execution_count": null,
   "id": "68c872a8-c8df-40de-9241-9bce3db01059",
   "metadata": {},
   "outputs": [],
   "source": [
    "result = pd.DataFrame(dict(original=original, transfer=transfer, convLSTM=convLSTM)).T\n",
    "result"
   ]
  },
  {
   "cell_type": "code",
   "execution_count": 35,
   "id": "a79bc8c2-a43e-4f0f-8e46-372a4a5a289b",
   "metadata": {
    "execution": {
     "iopub.execute_input": "2021-10-30T10:37:18.952866Z",
     "iopub.status.busy": "2021-10-30T10:37:18.951845Z",
     "iopub.status.idle": "2021-10-30T10:37:18.982844Z",
     "shell.execute_reply": "2021-10-30T10:37:18.981845Z",
     "shell.execute_reply.started": "2021-10-30T10:37:18.952866Z"
    },
    "tags": []
   },
   "outputs": [
    {
     "data": {
      "text/html": [
       "<div>\n",
       "<style scoped>\n",
       "    .dataframe tbody tr th:only-of-type {\n",
       "        vertical-align: middle;\n",
       "    }\n",
       "\n",
       "    .dataframe tbody tr th {\n",
       "        vertical-align: top;\n",
       "    }\n",
       "\n",
       "    .dataframe thead th {\n",
       "        text-align: right;\n",
       "    }\n",
       "</style>\n",
       "<table border=\"1\" class=\"dataframe\">\n",
       "  <thead>\n",
       "    <tr style=\"text-align: right;\">\n",
       "      <th></th>\n",
       "      <th>MAD</th>\n",
       "      <th>MSE</th>\n",
       "      <th>GRAD</th>\n",
       "      <th>CONN</th>\n",
       "    </tr>\n",
       "  </thead>\n",
       "  <tbody>\n",
       "    <tr>\n",
       "      <th>original</th>\n",
       "      <td>2.040768</td>\n",
       "      <td>0.942249</td>\n",
       "      <td>0.114096</td>\n",
       "      <td>102.397561</td>\n",
       "    </tr>\n",
       "    <tr>\n",
       "      <th>transfer</th>\n",
       "      <td>8.093385</td>\n",
       "      <td>5.442810</td>\n",
       "      <td>6.728481</td>\n",
       "      <td>406.093677</td>\n",
       "    </tr>\n",
       "    <tr>\n",
       "      <th>convLSTM</th>\n",
       "      <td>5.175114</td>\n",
       "      <td>3.730596</td>\n",
       "      <td>7.650366</td>\n",
       "      <td>259.666536</td>\n",
       "    </tr>\n",
       "  </tbody>\n",
       "</table>\n",
       "</div>"
      ],
      "text/plain": [
       "               MAD       MSE      GRAD        CONN\n",
       "original  2.040768  0.942249  0.114096  102.397561\n",
       "transfer  8.093385  5.442810  6.728481  406.093677\n",
       "convLSTM  5.175114  3.730596  7.650366  259.666536"
      ]
     },
     "execution_count": 35,
     "metadata": {},
     "output_type": "execute_result"
    }
   ],
   "source": [
    "result = pd.DataFrame(dict(original=original, transfer=transfer, convLSTM=convLSTM)).T\n",
    "result"
   ]
  },
  {
   "cell_type": "code",
   "execution_count": 41,
   "id": "bfe46411-a0ab-4c05-aa2f-fc3d321ebbd6",
   "metadata": {
    "execution": {
     "iopub.execute_input": "2021-10-30T12:23:49.608826Z",
     "iopub.status.busy": "2021-10-30T12:23:49.608826Z",
     "iopub.status.idle": "2021-10-30T12:23:49.627245Z",
     "shell.execute_reply": "2021-10-30T12:23:49.626235Z",
     "shell.execute_reply.started": "2021-10-30T12:23:49.608826Z"
    },
    "tags": []
   },
   "outputs": [
    {
     "name": "stdout",
     "output_type": "stream",
     "text": [
      "\\begin{table}\n",
      "\\centering\n",
      "\\caption{caption}\n",
      "\\label{result}\n",
      "\\begin{tabular}{lcccc}\n",
      "\\toprule\n",
      "{} &  MAD &  MSE &  GRAD &   CONN \\\\\n",
      "\\midrule\n",
      "original & 2.04 & 0.94 &  0.11 & 102.40 \\\\\n",
      "transfer & 8.09 & 5.44 &  6.73 & 406.09 \\\\\n",
      "convLSTM & 5.18 & 3.73 &  7.65 & 259.67 \\\\\n",
      "\\bottomrule\n",
      "\\end{tabular}\n",
      "\\end{table}\n",
      "\n"
     ]
    }
   ],
   "source": [
    "print(result.to_latex(float_format=\"%.2f\", caption=\"caption\", label=\"result\", column_format=\"lcccc\"))"
   ]
  },
  {
   "cell_type": "code",
   "execution_count": 36,
   "id": "09bbda73-436b-4205-825f-0572b9cd6b4f",
   "metadata": {
    "execution": {
     "iopub.execute_input": "2021-10-30T12:21:07.869483Z",
     "iopub.status.busy": "2021-10-30T12:21:07.868485Z",
     "iopub.status.idle": "2021-10-30T12:21:07.961481Z",
     "shell.execute_reply": "2021-10-30T12:21:07.961481Z",
     "shell.execute_reply.started": "2021-10-30T12:21:07.869483Z"
    },
    "tags": []
   },
   "outputs": [
    {
     "data": {
      "text/plain": [
       "\u001b[1;31mSignature:\u001b[0m\n",
       "\u001b[0mresult\u001b[0m\u001b[1;33m.\u001b[0m\u001b[0mto_latex\u001b[0m\u001b[1;33m(\u001b[0m\u001b[1;33m\n",
       "\u001b[0m    \u001b[0mbuf\u001b[0m\u001b[1;33m=\u001b[0m\u001b[1;32mNone\u001b[0m\u001b[1;33m,\u001b[0m\u001b[1;33m\n",
       "\u001b[0m    \u001b[0mcolumns\u001b[0m\u001b[1;33m=\u001b[0m\u001b[1;32mNone\u001b[0m\u001b[1;33m,\u001b[0m\u001b[1;33m\n",
       "\u001b[0m    \u001b[0mcol_space\u001b[0m\u001b[1;33m=\u001b[0m\u001b[1;32mNone\u001b[0m\u001b[1;33m,\u001b[0m\u001b[1;33m\n",
       "\u001b[0m    \u001b[0mheader\u001b[0m\u001b[1;33m=\u001b[0m\u001b[1;32mTrue\u001b[0m\u001b[1;33m,\u001b[0m\u001b[1;33m\n",
       "\u001b[0m    \u001b[0mindex\u001b[0m\u001b[1;33m=\u001b[0m\u001b[1;32mTrue\u001b[0m\u001b[1;33m,\u001b[0m\u001b[1;33m\n",
       "\u001b[0m    \u001b[0mna_rep\u001b[0m\u001b[1;33m=\u001b[0m\u001b[1;34m'NaN'\u001b[0m\u001b[1;33m,\u001b[0m\u001b[1;33m\n",
       "\u001b[0m    \u001b[0mformatters\u001b[0m\u001b[1;33m=\u001b[0m\u001b[1;32mNone\u001b[0m\u001b[1;33m,\u001b[0m\u001b[1;33m\n",
       "\u001b[0m    \u001b[0mfloat_format\u001b[0m\u001b[1;33m=\u001b[0m\u001b[1;32mNone\u001b[0m\u001b[1;33m,\u001b[0m\u001b[1;33m\n",
       "\u001b[0m    \u001b[0msparsify\u001b[0m\u001b[1;33m=\u001b[0m\u001b[1;32mNone\u001b[0m\u001b[1;33m,\u001b[0m\u001b[1;33m\n",
       "\u001b[0m    \u001b[0mindex_names\u001b[0m\u001b[1;33m=\u001b[0m\u001b[1;32mTrue\u001b[0m\u001b[1;33m,\u001b[0m\u001b[1;33m\n",
       "\u001b[0m    \u001b[0mbold_rows\u001b[0m\u001b[1;33m=\u001b[0m\u001b[1;32mFalse\u001b[0m\u001b[1;33m,\u001b[0m\u001b[1;33m\n",
       "\u001b[0m    \u001b[0mcolumn_format\u001b[0m\u001b[1;33m=\u001b[0m\u001b[1;32mNone\u001b[0m\u001b[1;33m,\u001b[0m\u001b[1;33m\n",
       "\u001b[0m    \u001b[0mlongtable\u001b[0m\u001b[1;33m=\u001b[0m\u001b[1;32mNone\u001b[0m\u001b[1;33m,\u001b[0m\u001b[1;33m\n",
       "\u001b[0m    \u001b[0mescape\u001b[0m\u001b[1;33m=\u001b[0m\u001b[1;32mNone\u001b[0m\u001b[1;33m,\u001b[0m\u001b[1;33m\n",
       "\u001b[0m    \u001b[0mencoding\u001b[0m\u001b[1;33m=\u001b[0m\u001b[1;32mNone\u001b[0m\u001b[1;33m,\u001b[0m\u001b[1;33m\n",
       "\u001b[0m    \u001b[0mdecimal\u001b[0m\u001b[1;33m=\u001b[0m\u001b[1;34m'.'\u001b[0m\u001b[1;33m,\u001b[0m\u001b[1;33m\n",
       "\u001b[0m    \u001b[0mmulticolumn\u001b[0m\u001b[1;33m=\u001b[0m\u001b[1;32mNone\u001b[0m\u001b[1;33m,\u001b[0m\u001b[1;33m\n",
       "\u001b[0m    \u001b[0mmulticolumn_format\u001b[0m\u001b[1;33m=\u001b[0m\u001b[1;32mNone\u001b[0m\u001b[1;33m,\u001b[0m\u001b[1;33m\n",
       "\u001b[0m    \u001b[0mmultirow\u001b[0m\u001b[1;33m=\u001b[0m\u001b[1;32mNone\u001b[0m\u001b[1;33m,\u001b[0m\u001b[1;33m\n",
       "\u001b[0m    \u001b[0mcaption\u001b[0m\u001b[1;33m=\u001b[0m\u001b[1;32mNone\u001b[0m\u001b[1;33m,\u001b[0m\u001b[1;33m\n",
       "\u001b[0m    \u001b[0mlabel\u001b[0m\u001b[1;33m=\u001b[0m\u001b[1;32mNone\u001b[0m\u001b[1;33m,\u001b[0m\u001b[1;33m\n",
       "\u001b[0m    \u001b[0mposition\u001b[0m\u001b[1;33m=\u001b[0m\u001b[1;32mNone\u001b[0m\u001b[1;33m,\u001b[0m\u001b[1;33m\n",
       "\u001b[0m\u001b[1;33m)\u001b[0m\u001b[1;33m\u001b[0m\u001b[1;33m\u001b[0m\u001b[0m\n",
       "\u001b[1;31mDocstring:\u001b[0m\n",
       "Render object to a LaTeX tabular, longtable, or nested table/tabular.\n",
       "\n",
       "Requires ``\\usepackage{booktabs}``.  The output can be copy/pasted\n",
       "into a main LaTeX document or read from an external file\n",
       "with ``\\input{table.tex}``.\n",
       "\n",
       ".. versionchanged:: 1.0.0\n",
       "   Added caption and label arguments.\n",
       "\n",
       ".. versionchanged:: 1.2.0\n",
       "   Added position argument, changed meaning of caption argument.\n",
       "\n",
       "Parameters\n",
       "----------\n",
       "buf : str, Path or StringIO-like, optional, default None\n",
       "    Buffer to write to. If None, the output is returned as a string.\n",
       "columns : list of label, optional\n",
       "    The subset of columns to write. Writes all columns by default.\n",
       "col_space : int, optional\n",
       "    The minimum width of each column.\n",
       "header : bool or list of str, default True\n",
       "    Write out the column names. If a list of strings is given,\n",
       "    it is assumed to be aliases for the column names.\n",
       "index : bool, default True\n",
       "    Write row names (index).\n",
       "na_rep : str, default 'NaN'\n",
       "    Missing data representation.\n",
       "formatters : list of functions or dict of {str: function}, optional\n",
       "    Formatter functions to apply to columns' elements by position or\n",
       "    name. The result of each function must be a unicode string.\n",
       "    List must be of length equal to the number of columns.\n",
       "float_format : one-parameter function or str, optional, default None\n",
       "    Formatter for floating point numbers. For example\n",
       "    ``float_format=\"%.2f\"`` and ``float_format=\"{:0.2f}\".format`` will\n",
       "    both result in 0.1234 being formatted as 0.12.\n",
       "sparsify : bool, optional\n",
       "    Set to False for a DataFrame with a hierarchical index to print\n",
       "    every multiindex key at each row. By default, the value will be\n",
       "    read from the config module.\n",
       "index_names : bool, default True\n",
       "    Prints the names of the indexes.\n",
       "bold_rows : bool, default False\n",
       "    Make the row labels bold in the output.\n",
       "column_format : str, optional\n",
       "    The columns format as specified in `LaTeX table format\n",
       "    <https://en.wikibooks.org/wiki/LaTeX/Tables>`__ e.g. 'rcl' for 3\n",
       "    columns. By default, 'l' will be used for all columns except\n",
       "    columns of numbers, which default to 'r'.\n",
       "longtable : bool, optional\n",
       "    By default, the value will be read from the pandas config\n",
       "    module. Use a longtable environment instead of tabular. Requires\n",
       "    adding a \\usepackage{longtable} to your LaTeX preamble.\n",
       "escape : bool, optional\n",
       "    By default, the value will be read from the pandas config\n",
       "    module. When set to False prevents from escaping latex special\n",
       "    characters in column names.\n",
       "encoding : str, optional\n",
       "    A string representing the encoding to use in the output file,\n",
       "    defaults to 'utf-8'.\n",
       "decimal : str, default '.'\n",
       "    Character recognized as decimal separator, e.g. ',' in Europe.\n",
       "multicolumn : bool, default True\n",
       "    Use \\multicolumn to enhance MultiIndex columns.\n",
       "    The default will be read from the config module.\n",
       "multicolumn_format : str, default 'l'\n",
       "    The alignment for multicolumns, similar to `column_format`\n",
       "    The default will be read from the config module.\n",
       "multirow : bool, default False\n",
       "    Use \\multirow to enhance MultiIndex rows. Requires adding a\n",
       "    \\usepackage{multirow} to your LaTeX preamble. Will print\n",
       "    centered labels (instead of top-aligned) across the contained\n",
       "    rows, separating groups via clines. The default will be read\n",
       "    from the pandas config module.\n",
       "caption : str or tuple, optional\n",
       "    Tuple (full_caption, short_caption),\n",
       "    which results in ``\\caption[short_caption]{full_caption}``;\n",
       "    if a single string is passed, no short caption will be set.\n",
       "\n",
       "    .. versionadded:: 1.0.0\n",
       "\n",
       "    .. versionchanged:: 1.2.0\n",
       "       Optionally allow caption to be a tuple ``(full_caption, short_caption)``.\n",
       "\n",
       "label : str, optional\n",
       "    The LaTeX label to be placed inside ``\\label{}`` in the output.\n",
       "    This is used with ``\\ref{}`` in the main ``.tex`` file.\n",
       "\n",
       "    .. versionadded:: 1.0.0\n",
       "position : str, optional\n",
       "    The LaTeX positional argument for tables, to be placed after\n",
       "    ``\\begin{}`` in the output.\n",
       "\n",
       "    .. versionadded:: 1.2.0\n",
       "\n",
       "        Returns\n",
       "        -------\n",
       "        str or None\n",
       "            If buf is None, returns the result as a string. Otherwise returns\n",
       "            None.\n",
       "    \n",
       "See Also\n",
       "--------\n",
       "DataFrame.to_string : Render a DataFrame to a console-friendly\n",
       "    tabular output.\n",
       "DataFrame.to_html : Render a DataFrame as an HTML table.\n",
       "\n",
       "Examples\n",
       "--------\n",
       ">>> df = pd.DataFrame(dict(name=['Raphael', 'Donatello'],\n",
       "...                   mask=['red', 'purple'],\n",
       "...                   weapon=['sai', 'bo staff']))\n",
       ">>> print(df.to_latex(index=False))  # doctest: +NORMALIZE_WHITESPACE\n",
       "\\begin{tabular}{lll}\n",
       " \\toprule\n",
       "       name &    mask &    weapon \\\\\n",
       " \\midrule\n",
       "    Raphael &     red &       sai \\\\\n",
       "  Donatello &  purple &  bo staff \\\\\n",
       "\\bottomrule\n",
       "\\end{tabular}\n",
       "\u001b[1;31mFile:\u001b[0m      e:\\lang\\python\\envs\\jupyterlab\\lib\\site-packages\\pandas\\core\\generic.py\n",
       "\u001b[1;31mType:\u001b[0m      method\n"
      ]
     },
     "metadata": {},
     "output_type": "display_data"
    }
   ],
   "source": [
    "result.to_latex?"
   ]
  }
 ],
 "metadata": {
  "kernelspec": {
   "display_name": "Python 3 (ipykernel)",
   "language": "python",
   "name": "python3"
  },
  "language_info": {
   "codemirror_mode": {
    "name": "ipython",
    "version": 3
   },
   "file_extension": ".py",
   "mimetype": "text/x-python",
   "name": "python",
   "nbconvert_exporter": "python",
   "pygments_lexer": "ipython3",
   "version": "3.8.0"
  }
 },
 "nbformat": 4,
 "nbformat_minor": 5
}
